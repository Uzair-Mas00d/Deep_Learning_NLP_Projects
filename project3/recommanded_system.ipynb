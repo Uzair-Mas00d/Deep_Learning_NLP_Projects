{
 "cells": [
  {
   "cell_type": "code",
   "execution_count": 53,
   "metadata": {},
   "outputs": [],
   "source": [
    "# Dataset Downloaded from https://www.kaggle.com/datasets/mejbahahammad/movielens-20m-dataset\n",
    "import pandas as pd \n",
    "import numpy as np\n",
    "import matplotlib.pyplot as plt\n",
    "\n",
    "import tensorflow as tf \n",
    "\n",
    "from sklearn.model_selection import train_test_split\n",
    "from sklearn.metrics import mean_squared_error"
   ]
  },
  {
   "cell_type": "markdown",
   "metadata": {},
   "source": [
    "<h4>Load Data and Process Data</h4>"
   ]
  },
  {
   "cell_type": "code",
   "execution_count": 2,
   "metadata": {},
   "outputs": [
    {
     "data": {
      "text/plain": [
       "(20000263, 4)"
      ]
     },
     "execution_count": 2,
     "metadata": {},
     "output_type": "execute_result"
    }
   ],
   "source": [
    "ratingDf = pd.read_csv(\"Dataset/ratings.csv\")\n",
    "ratingDf.shape"
   ]
  },
  {
   "cell_type": "code",
   "execution_count": 3,
   "metadata": {},
   "outputs": [
    {
     "data": {
      "text/plain": [
       "138493"
      ]
     },
     "execution_count": 3,
     "metadata": {},
     "output_type": "execute_result"
    }
   ],
   "source": [
    "ratingDf.userId.nunique()"
   ]
  },
  {
   "cell_type": "code",
   "execution_count": 4,
   "metadata": {},
   "outputs": [
    {
     "data": {
      "text/plain": [
       "26744"
      ]
     },
     "execution_count": 4,
     "metadata": {},
     "output_type": "execute_result"
    }
   ],
   "source": [
    "ratingDf.movieId.nunique()"
   ]
  },
  {
   "cell_type": "code",
   "execution_count": 5,
   "metadata": {},
   "outputs": [
    {
     "data": {
      "text/plain": [
       "4.0    5561926\n",
       "3.0    4291193\n",
       "5.0    2898660\n",
       "3.5    2200156\n",
       "4.5    1534824\n",
       "2.0    1430997\n",
       "2.5     883398\n",
       "1.0     680732\n",
       "1.5     279252\n",
       "0.5     239125\n",
       "Name: rating, dtype: int64"
      ]
     },
     "execution_count": 5,
     "metadata": {},
     "output_type": "execute_result"
    }
   ],
   "source": [
    "ratingDf.rating.value_counts()"
   ]
  },
  {
   "cell_type": "code",
   "execution_count": 6,
   "metadata": {},
   "outputs": [
    {
     "data": {
      "text/html": [
       "<div>\n",
       "<style scoped>\n",
       "    .dataframe tbody tr th:only-of-type {\n",
       "        vertical-align: middle;\n",
       "    }\n",
       "\n",
       "    .dataframe tbody tr th {\n",
       "        vertical-align: top;\n",
       "    }\n",
       "\n",
       "    .dataframe thead th {\n",
       "        text-align: right;\n",
       "    }\n",
       "</style>\n",
       "<table border=\"1\" class=\"dataframe\">\n",
       "  <thead>\n",
       "    <tr style=\"text-align: right;\">\n",
       "      <th></th>\n",
       "      <th>userId</th>\n",
       "      <th>movieId</th>\n",
       "      <th>rating</th>\n",
       "      <th>timestamp</th>\n",
       "    </tr>\n",
       "  </thead>\n",
       "  <tbody>\n",
       "    <tr>\n",
       "      <th>0</th>\n",
       "      <td>1</td>\n",
       "      <td>2</td>\n",
       "      <td>3.5</td>\n",
       "      <td>2005-04-02 23:53:47</td>\n",
       "    </tr>\n",
       "    <tr>\n",
       "      <th>1</th>\n",
       "      <td>1</td>\n",
       "      <td>29</td>\n",
       "      <td>3.5</td>\n",
       "      <td>2005-04-02 23:31:16</td>\n",
       "    </tr>\n",
       "    <tr>\n",
       "      <th>2</th>\n",
       "      <td>1</td>\n",
       "      <td>32</td>\n",
       "      <td>3.5</td>\n",
       "      <td>2005-04-02 23:33:39</td>\n",
       "    </tr>\n",
       "    <tr>\n",
       "      <th>3</th>\n",
       "      <td>1</td>\n",
       "      <td>47</td>\n",
       "      <td>3.5</td>\n",
       "      <td>2005-04-02 23:32:07</td>\n",
       "    </tr>\n",
       "    <tr>\n",
       "      <th>4</th>\n",
       "      <td>1</td>\n",
       "      <td>50</td>\n",
       "      <td>3.5</td>\n",
       "      <td>2005-04-02 23:29:40</td>\n",
       "    </tr>\n",
       "  </tbody>\n",
       "</table>\n",
       "</div>"
      ],
      "text/plain": [
       "   userId  movieId  rating           timestamp\n",
       "0       1        2     3.5 2005-04-02 23:53:47\n",
       "1       1       29     3.5 2005-04-02 23:31:16\n",
       "2       1       32     3.5 2005-04-02 23:33:39\n",
       "3       1       47     3.5 2005-04-02 23:32:07\n",
       "4       1       50     3.5 2005-04-02 23:29:40"
      ]
     },
     "execution_count": 6,
     "metadata": {},
     "output_type": "execute_result"
    }
   ],
   "source": [
    "ratingDf.userId = ratingDf.userId.astype(str).astype(int)\n",
    "ratingDf.movieId = ratingDf.movieId.astype(str).astype(int)\n",
    "ratingDf.rating = ratingDf.rating.astype(str).astype(float)\n",
    "ratingDf.timestamp = pd.to_datetime(ratingDf.timestamp, unit='s')\n",
    "\n",
    "ratingDf.head()"
   ]
  },
  {
   "cell_type": "code",
   "execution_count": 7,
   "metadata": {},
   "outputs": [],
   "source": [
    "n_users = ratingDf.userId.unique().shape[0]\n",
    "n_movies = ratingDf.movieId.unique().shape[0]\n",
    "n_ratings = ratingDf.shape[0]\n",
    "avg_ratings_per_user = n_ratings / n_users"
   ]
  },
  {
   "cell_type": "code",
   "execution_count": 8,
   "metadata": {},
   "outputs": [
    {
     "name": "stdout",
     "output_type": "stream",
     "text": [
      "Number of unique users:  138493\n",
      "Number of unique movies:  26744\n",
      "Number of total ratings:  20000263\n",
      "Average number of ratings per user:  144.4135299257002\n"
     ]
    }
   ],
   "source": [
    "print('Number of unique users: ', n_users)\n",
    "print('Number of unique movies: ', n_movies)\n",
    "print('Number of total ratings: ', n_ratings)\n",
    "print('Average number of ratings per user: ', avg_ratings_per_user)"
   ]
  },
  {
   "cell_type": "code",
   "execution_count": 9,
   "metadata": {},
   "outputs": [
    {
     "data": {
      "text/plain": [
       "userId       12840344\n",
       "movieId      12840344\n",
       "rating       12840344\n",
       "timestamp    12840344\n",
       "dtype: int64"
      ]
     },
     "execution_count": 9,
     "metadata": {},
     "output_type": "execute_result"
    }
   ],
   "source": [
    "movieIndex = ratingDf.groupby('movieId').count().sort_values(by='rating', ascending=False)[0:1000].index\n",
    "ratingDfX2 = ratingDf[ratingDf.movieId.isin(movieIndex)]\n",
    "ratingDfX2.count()"
   ]
  },
  {
   "cell_type": "code",
   "execution_count": 10,
   "metadata": {},
   "outputs": [
    {
     "data": {
      "text/plain": [
       "userId       93411\n",
       "movieId      93411\n",
       "rating       93411\n",
       "timestamp    93411\n",
       "dtype: int64"
      ]
     },
     "execution_count": 10,
     "metadata": {},
     "output_type": "execute_result"
    }
   ],
   "source": [
    "userIndex = ratingDfX2.groupby('userId').count().sort_values(by='userId', ascending=False).sample(n=1000, random_state=2018).index\n",
    "ratingDfX3 = ratingDfX2[ratingDfX2.userId.isin(userIndex)]\n",
    "ratingDfX3.count()"
   ]
  },
  {
   "cell_type": "code",
   "execution_count": 11,
   "metadata": {},
   "outputs": [],
   "source": [
    "movies = ratingDfX3.movieId.unique()\n",
    "moviesDf = pd.DataFrame(data=movies, columns=['originalMovieId'])\n",
    "moviesDf['newMovieId'] = moviesDf.index+1"
   ]
  },
  {
   "cell_type": "code",
   "execution_count": 12,
   "metadata": {},
   "outputs": [],
   "source": [
    "users = ratingDfX3.userId.unique()\n",
    "usersDf = pd.DataFrame(data=users,columns=['originalUserId'])\n",
    "usersDf['newUserId'] = usersDf.index+1"
   ]
  },
  {
   "cell_type": "code",
   "execution_count": 13,
   "metadata": {},
   "outputs": [],
   "source": [
    "ratingDfX3 = ratingDfX3.merge(moviesDf, left_on='movieId', right_on='originalMovieId')\n",
    "ratingDfX3.drop(labels='originalMovieId',axis=1,inplace=True)\n",
    "ratingDfX3 = ratingDfX3.merge(usersDf, left_on='userId', right_on='originalUserId')\n",
    "ratingDfX3.drop(labels='originalUserId', axis=1, inplace=True)\n"
   ]
  },
  {
   "cell_type": "code",
   "execution_count": 14,
   "metadata": {},
   "outputs": [],
   "source": [
    "n_users = ratingDfX3.userId.unique().shape[0]\n",
    "n_movies = ratingDfX3.movieId.unique().shape[0]\n",
    "n_ratings = ratingDfX3.shape[0]\n",
    "avg_ratings_per_user = n_ratings / n_users"
   ]
  },
  {
   "cell_type": "code",
   "execution_count": 15,
   "metadata": {},
   "outputs": [
    {
     "name": "stdout",
     "output_type": "stream",
     "text": [
      "Number of unique users:  1000\n",
      "Number of unique movies:  1000\n",
      "Number of total ratings:  93411\n",
      "Average number of ratings per user:  93.411\n"
     ]
    }
   ],
   "source": [
    "print('Number of unique users: ', n_users)\n",
    "print('Number of unique movies: ', n_movies)\n",
    "print('Number of total ratings: ', n_ratings)\n",
    "print('Average number of ratings per user: ', avg_ratings_per_user)"
   ]
  },
  {
   "cell_type": "code",
   "execution_count": 16,
   "metadata": {},
   "outputs": [],
   "source": [
    "X_train, X_test = train_test_split(ratingDfX3, test_size=0.10, shuffle=True, random_state=2018)\n",
    "X_validation, X_test = train_test_split(X_test, test_size=0.50, shuffle=True, random_state=2018)"
   ]
  },
  {
   "cell_type": "code",
   "execution_count": 17,
   "metadata": {},
   "outputs": [
    {
     "name": "stdout",
     "output_type": "stream",
     "text": [
      "Shape of train set: (84069, 6)\n",
      "Shape of validation set: (4671, 6)\n",
      "Shape of test set:  (4671, 6)\n"
     ]
    }
   ],
   "source": [
    "print('Shape of train set:', X_train.shape)\n",
    "print('Shape of validation set:',X_validation.shape)\n",
    "print('Shape of test set: ',X_test.shape)"
   ]
  },
  {
   "cell_type": "code",
   "execution_count": 18,
   "metadata": {},
   "outputs": [
    {
     "name": "stdout",
     "output_type": "stream",
     "text": [
      "Size of train set: 504414\n",
      "Size of validation set: 28026\n",
      "Size of test set:  28026\n"
     ]
    }
   ],
   "source": [
    "print('Size of train set:', X_train.size)\n",
    "print('Size of validation set:',X_validation.size)\n",
    "print('Size of test set: ',X_test.size)"
   ]
  },
  {
   "cell_type": "code",
   "execution_count": 49,
   "metadata": {},
   "outputs": [],
   "source": [
    "n_latent_factor = 1\n",
    "user_input = tf.keras.layers.Input(shape=[1], name='user')\n",
    "user_embedding = tf.keras.layers.Embedding(input_dim=n_users+1,output_dim=n_latent_factor,name='user_embedding')(user_input)\n",
    "user_vec = tf.keras.layers.Flatten(name='user_vec')(user_embedding)\n",
    "movie_input = tf.keras.layers.Input(shape=[1], name='movie')\n",
    "movie_embedding = tf.keras.layers.Embedding(input_dim=n_movies+1, output_dim=n_latent_factor, name='movie_embedding')(movie_input)\n",
    "movie_vec = tf.keras.layers.Flatten(name='movie_vec')(movie_embedding)\n",
    "product = tf.keras.layers.Dot(name='product', axes=1)([user_vec, movie_vec])\n",
    "model = tf.keras.Model([user_input, movie_input], product)"
   ]
  },
  {
   "cell_type": "code",
   "execution_count": 50,
   "metadata": {},
   "outputs": [
    {
     "name": "stdout",
     "output_type": "stream",
     "text": [
      "Epoch 1/100\n",
      "2628/2628 [==============================] - 8s 3ms/step - loss: 13.6126 - val_loss: 11.6623\n",
      "Epoch 2/100\n",
      "2628/2628 [==============================] - 8s 3ms/step - loss: 8.7608 - val_loss: 6.1106\n",
      "Epoch 3/100\n",
      "2628/2628 [==============================] - 7s 3ms/step - loss: 4.2756 - val_loss: 3.0420\n",
      "Epoch 4/100\n",
      "2628/2628 [==============================] - 8s 3ms/step - loss: 2.3096 - val_loss: 1.8574\n",
      "Epoch 5/100\n",
      "2628/2628 [==============================] - 7s 2ms/step - loss: 1.4883 - val_loss: 1.3007\n",
      "Epoch 6/100\n",
      "2628/2628 [==============================] - 8s 3ms/step - loss: 1.0982 - val_loss: 1.0271\n",
      "Epoch 7/100\n",
      "2628/2628 [==============================] - 8s 3ms/step - loss: 0.9087 - val_loss: 0.8884\n",
      "Epoch 8/100\n",
      "2628/2628 [==============================] - 7s 3ms/step - loss: 0.8143 - val_loss: 0.8177\n",
      "Epoch 9/100\n",
      "2628/2628 [==============================] - 5s 2ms/step - loss: 0.7660 - val_loss: 0.7795\n",
      "Epoch 10/100\n",
      "2628/2628 [==============================] - 6s 2ms/step - loss: 0.7410 - val_loss: 0.7577\n",
      "Epoch 11/100\n",
      "2628/2628 [==============================] - 8s 3ms/step - loss: 0.7278 - val_loss: 0.7451\n",
      "Epoch 12/100\n",
      "2628/2628 [==============================] - 6s 2ms/step - loss: 0.7204 - val_loss: 0.7394\n",
      "Epoch 13/100\n",
      "2628/2628 [==============================] - 6s 2ms/step - loss: 0.7168 - val_loss: 0.7356\n",
      "Epoch 14/100\n",
      "2628/2628 [==============================] - 7s 2ms/step - loss: 0.7144 - val_loss: 0.7326\n",
      "Epoch 15/100\n",
      "2628/2628 [==============================] - 6s 2ms/step - loss: 0.7132 - val_loss: 0.7324\n",
      "Epoch 16/100\n",
      "2628/2628 [==============================] - 6s 2ms/step - loss: 0.7123 - val_loss: 0.7310\n",
      "Epoch 17/100\n",
      "2628/2628 [==============================] - 6s 2ms/step - loss: 0.7119 - val_loss: 0.7309\n",
      "Epoch 18/100\n",
      "2628/2628 [==============================] - 6s 2ms/step - loss: 0.7116 - val_loss: 0.7300\n",
      "Epoch 19/100\n",
      "2628/2628 [==============================] - 6s 2ms/step - loss: 0.7116 - val_loss: 0.7309\n",
      "Epoch 20/100\n",
      "2628/2628 [==============================] - 6s 2ms/step - loss: 0.7114 - val_loss: 0.7315\n",
      "Epoch 21/100\n",
      "2628/2628 [==============================] - 7s 3ms/step - loss: 0.7113 - val_loss: 0.7294\n",
      "Epoch 22/100\n",
      "2628/2628 [==============================] - 6s 2ms/step - loss: 0.7113 - val_loss: 0.7304\n",
      "Epoch 23/100\n",
      "2628/2628 [==============================] - 6s 2ms/step - loss: 0.7113 - val_loss: 0.7299\n",
      "Epoch 24/100\n",
      "2628/2628 [==============================] - 6s 2ms/step - loss: 0.7113 - val_loss: 0.7304\n",
      "Epoch 25/100\n",
      "2628/2628 [==============================] - 6s 2ms/step - loss: 0.7112 - val_loss: 0.7306\n",
      "Epoch 26/100\n",
      "2628/2628 [==============================] - 6s 2ms/step - loss: 0.7113 - val_loss: 0.7316\n",
      "Epoch 27/100\n",
      "2628/2628 [==============================] - 6s 2ms/step - loss: 0.7112 - val_loss: 0.7306\n",
      "Epoch 28/100\n",
      "2628/2628 [==============================] - 6s 2ms/step - loss: 0.7113 - val_loss: 0.7304\n",
      "Epoch 29/100\n",
      "2628/2628 [==============================] - 6s 2ms/step - loss: 0.7112 - val_loss: 0.7318\n",
      "Epoch 30/100\n",
      "2628/2628 [==============================] - 6s 2ms/step - loss: 0.7113 - val_loss: 0.7313\n",
      "Epoch 31/100\n",
      "2628/2628 [==============================] - 6s 2ms/step - loss: 0.7112 - val_loss: 0.7305\n",
      "Epoch 32/100\n",
      "2628/2628 [==============================] - 6s 2ms/step - loss: 0.7113 - val_loss: 0.7299\n",
      "Epoch 33/100\n",
      "2628/2628 [==============================] - 6s 2ms/step - loss: 0.7112 - val_loss: 0.7300\n",
      "Epoch 34/100\n",
      "2628/2628 [==============================] - 6s 2ms/step - loss: 0.7112 - val_loss: 0.7303\n",
      "Epoch 35/100\n",
      "2628/2628 [==============================] - 6s 2ms/step - loss: 0.7113 - val_loss: 0.7299\n",
      "Epoch 36/100\n",
      "2628/2628 [==============================] - 6s 2ms/step - loss: 0.7113 - val_loss: 0.7308\n",
      "Epoch 37/100\n",
      "2628/2628 [==============================] - 6s 2ms/step - loss: 0.7113 - val_loss: 0.7298\n",
      "Epoch 38/100\n",
      "2628/2628 [==============================] - 6s 2ms/step - loss: 0.7111 - val_loss: 0.7308\n",
      "Epoch 39/100\n",
      "2628/2628 [==============================] - 6s 2ms/step - loss: 0.7113 - val_loss: 0.7306\n",
      "Epoch 40/100\n",
      "2628/2628 [==============================] - 8s 3ms/step - loss: 0.7113 - val_loss: 0.7313\n",
      "Epoch 41/100\n",
      "2628/2628 [==============================] - 7s 3ms/step - loss: 0.7113 - val_loss: 0.7308\n",
      "Epoch 42/100\n",
      "2628/2628 [==============================] - 10s 4ms/step - loss: 0.7112 - val_loss: 0.7304\n",
      "Epoch 43/100\n",
      "2628/2628 [==============================] - 9s 3ms/step - loss: 0.7112 - val_loss: 0.7304\n",
      "Epoch 44/100\n",
      "2628/2628 [==============================] - 10s 4ms/step - loss: 0.7114 - val_loss: 0.7300\n",
      "Epoch 45/100\n",
      "2628/2628 [==============================] - 8s 3ms/step - loss: 0.7113 - val_loss: 0.7316\n",
      "Epoch 46/100\n",
      "2628/2628 [==============================] - 7s 3ms/step - loss: 0.7113 - val_loss: 0.7309\n",
      "Epoch 47/100\n",
      "2628/2628 [==============================] - 9s 3ms/step - loss: 0.7112 - val_loss: 0.7301\n",
      "Epoch 48/100\n",
      "2628/2628 [==============================] - 6s 2ms/step - loss: 0.7113 - val_loss: 0.7312\n",
      "Epoch 49/100\n",
      "2628/2628 [==============================] - 7s 3ms/step - loss: 0.7113 - val_loss: 0.7322\n",
      "Epoch 50/100\n",
      "2628/2628 [==============================] - 6s 2ms/step - loss: 0.7112 - val_loss: 0.7305\n",
      "Epoch 51/100\n",
      "2628/2628 [==============================] - 8s 3ms/step - loss: 0.7111 - val_loss: 0.7310\n",
      "Epoch 52/100\n",
      "2628/2628 [==============================] - 12s 4ms/step - loss: 0.7112 - val_loss: 0.7304\n",
      "Epoch 53/100\n",
      "2628/2628 [==============================] - 11s 4ms/step - loss: 0.7112 - val_loss: 0.7312\n",
      "Epoch 54/100\n",
      "2628/2628 [==============================] - 12s 5ms/step - loss: 0.7112 - val_loss: 0.7319\n",
      "Epoch 55/100\n",
      "2628/2628 [==============================] - 8s 3ms/step - loss: 0.7113 - val_loss: 0.7304\n",
      "Epoch 56/100\n",
      "2628/2628 [==============================] - 9s 3ms/step - loss: 0.7112 - val_loss: 0.7305\n",
      "Epoch 57/100\n",
      "2628/2628 [==============================] - 8s 3ms/step - loss: 0.7112 - val_loss: 0.7318\n",
      "Epoch 58/100\n",
      "2628/2628 [==============================] - 8s 3ms/step - loss: 0.7112 - val_loss: 0.7313\n",
      "Epoch 59/100\n",
      "2628/2628 [==============================] - 7s 2ms/step - loss: 0.7113 - val_loss: 0.7312\n",
      "Epoch 60/100\n",
      "2628/2628 [==============================] - 7s 3ms/step - loss: 0.7114 - val_loss: 0.7297\n",
      "Epoch 61/100\n",
      "2628/2628 [==============================] - 9s 3ms/step - loss: 0.7113 - val_loss: 0.7309\n",
      "Epoch 62/100\n",
      "2628/2628 [==============================] - 8s 3ms/step - loss: 0.7112 - val_loss: 0.7299\n",
      "Epoch 63/100\n",
      "2628/2628 [==============================] - 11s 4ms/step - loss: 0.7112 - val_loss: 0.7303\n",
      "Epoch 64/100\n",
      "2628/2628 [==============================] - 8s 3ms/step - loss: 0.7112 - val_loss: 0.7312\n",
      "Epoch 65/100\n",
      "2628/2628 [==============================] - 6s 2ms/step - loss: 0.7113 - val_loss: 0.7301\n",
      "Epoch 66/100\n",
      "2628/2628 [==============================] - 6s 2ms/step - loss: 0.7113 - val_loss: 0.7301\n",
      "Epoch 67/100\n",
      "2628/2628 [==============================] - 7s 3ms/step - loss: 0.7113 - val_loss: 0.7315\n",
      "Epoch 68/100\n",
      "2628/2628 [==============================] - 7s 3ms/step - loss: 0.7113 - val_loss: 0.7306\n",
      "Epoch 69/100\n",
      "2628/2628 [==============================] - 8s 3ms/step - loss: 0.7112 - val_loss: 0.7299\n",
      "Epoch 70/100\n",
      "2628/2628 [==============================] - 7s 3ms/step - loss: 0.7113 - val_loss: 0.7293\n",
      "Epoch 71/100\n",
      "2628/2628 [==============================] - 6s 2ms/step - loss: 0.7114 - val_loss: 0.7303\n",
      "Epoch 72/100\n",
      "2628/2628 [==============================] - 6s 2ms/step - loss: 0.7112 - val_loss: 0.7305\n",
      "Epoch 73/100\n",
      "2628/2628 [==============================] - 6s 2ms/step - loss: 0.7112 - val_loss: 0.7315\n",
      "Epoch 74/100\n",
      "2628/2628 [==============================] - 6s 2ms/step - loss: 0.7112 - val_loss: 0.7316\n",
      "Epoch 75/100\n",
      "2628/2628 [==============================] - 7s 3ms/step - loss: 0.7113 - val_loss: 0.7298\n",
      "Epoch 76/100\n",
      "2628/2628 [==============================] - 6s 2ms/step - loss: 0.7112 - val_loss: 0.7320\n",
      "Epoch 77/100\n",
      "2628/2628 [==============================] - 7s 3ms/step - loss: 0.7112 - val_loss: 0.7313\n",
      "Epoch 78/100\n",
      "2628/2628 [==============================] - 6s 2ms/step - loss: 0.7113 - val_loss: 0.7314\n",
      "Epoch 79/100\n",
      "2628/2628 [==============================] - 6s 2ms/step - loss: 0.7113 - val_loss: 0.7322\n",
      "Epoch 80/100\n",
      "2628/2628 [==============================] - 6s 2ms/step - loss: 0.7112 - val_loss: 0.7311\n",
      "Epoch 81/100\n",
      "2628/2628 [==============================] - 6s 2ms/step - loss: 0.7111 - val_loss: 0.7296\n",
      "Epoch 82/100\n",
      "2628/2628 [==============================] - 6s 2ms/step - loss: 0.7113 - val_loss: 0.7314\n",
      "Epoch 83/100\n",
      "2628/2628 [==============================] - 6s 2ms/step - loss: 0.7113 - val_loss: 0.7317\n",
      "Epoch 84/100\n",
      "2628/2628 [==============================] - 6s 2ms/step - loss: 0.7112 - val_loss: 0.7302\n",
      "Epoch 85/100\n",
      "2628/2628 [==============================] - 6s 2ms/step - loss: 0.7113 - val_loss: 0.7324\n",
      "Epoch 86/100\n",
      "2628/2628 [==============================] - 6s 2ms/step - loss: 0.7112 - val_loss: 0.7316\n",
      "Epoch 87/100\n",
      "2628/2628 [==============================] - 6s 2ms/step - loss: 0.7112 - val_loss: 0.7303\n",
      "Epoch 88/100\n",
      "2628/2628 [==============================] - 6s 2ms/step - loss: 0.7113 - val_loss: 0.7312\n",
      "Epoch 89/100\n",
      "2628/2628 [==============================] - 6s 2ms/step - loss: 0.7113 - val_loss: 0.7309\n",
      "Epoch 90/100\n",
      "2628/2628 [==============================] - 8s 3ms/step - loss: 0.7113 - val_loss: 0.7317\n",
      "Epoch 91/100\n",
      "2628/2628 [==============================] - 7s 3ms/step - loss: 0.7113 - val_loss: 0.7313\n",
      "Epoch 92/100\n",
      "2628/2628 [==============================] - 6s 2ms/step - loss: 0.7112 - val_loss: 0.7312\n",
      "Epoch 93/100\n",
      "2628/2628 [==============================] - 7s 3ms/step - loss: 0.7113 - val_loss: 0.7308\n",
      "Epoch 94/100\n",
      "2628/2628 [==============================] - 6s 2ms/step - loss: 0.7112 - val_loss: 0.7298\n",
      "Epoch 95/100\n",
      "2628/2628 [==============================] - 9s 3ms/step - loss: 0.7112 - val_loss: 0.7306\n",
      "Epoch 96/100\n",
      "2628/2628 [==============================] - 8s 3ms/step - loss: 0.7113 - val_loss: 0.7304\n",
      "Epoch 97/100\n",
      "2628/2628 [==============================] - 8s 3ms/step - loss: 0.7112 - val_loss: 0.7306\n",
      "Epoch 98/100\n",
      "2628/2628 [==============================] - 6s 2ms/step - loss: 0.7113 - val_loss: 0.7301\n",
      "Epoch 99/100\n",
      "2628/2628 [==============================] - 6s 2ms/step - loss: 0.7113 - val_loss: 0.7314\n",
      "Epoch 100/100\n",
      "2628/2628 [==============================] - 6s 2ms/step - loss: 0.7113 - val_loss: 0.7313\n"
     ]
    }
   ],
   "source": [
    "model.compile('adam', 'mean_squared_error')\n",
    "history = model.fit(x=[X_train.newUserId, X_train.newMovieId], y=X_train.rating, epochs=100,\n",
    "                    validation_data=([X_validation.newUserId, X_validation.newMovieId], X_validation.rating),\n",
    "                    verbose=1\n",
    "                    )"
   ]
  },
  {
   "cell_type": "markdown",
   "metadata": {},
   "source": [
    "<h4>Testing Model</h4>"
   ]
  },
  {
   "cell_type": "code",
   "execution_count": 60,
   "metadata": {},
   "outputs": [
    {
     "name": "stdout",
     "output_type": "stream",
     "text": [
      "Minimum MSE:  0.7293317317962646\n"
     ]
    },
    {
     "data": {
      "image/png": "[encoded data removed]",
      "text/plain": [
       "<Figure size 640x480 with 1 Axes>"
      ]
     },
     "metadata": {},
     "output_type": "display_data"
    }
   ],
   "source": [
    "pd.Series(history.history['val_loss'][10:]).plot(logy=False)\n",
    "plt.xlabel(\"Epoch\")\n",
    "plt.ylabel(\"Validation Error\")\n",
    "print('Minimum MSE: ', min(history.history['val_loss']))"
   ]
  },
  {
   "cell_type": "code",
   "execution_count": 56,
   "metadata": {},
   "outputs": [
    {
     "name": "stdout",
     "output_type": "stream",
     "text": [
      "146/146 [==============================] - 0s 3ms/step\n"
     ]
    },
    {
     "data": {
      "text/plain": [
       "array([[3.8914692],\n",
       "       [3.659824 ],\n",
       "       [3.5010915],\n",
       "       ...,\n",
       "       [3.2940898],\n",
       "       [3.4858923],\n",
       "       [4.18111  ]], dtype=float32)"
      ]
     },
     "execution_count": 56,
     "metadata": {},
     "output_type": "execute_result"
    }
   ],
   "source": [
    "pred = model.predict([X_test.newUserId,X_test.newMovieId])"
   ]
  },
  {
   "cell_type": "code",
   "execution_count": 57,
   "metadata": {},
   "outputs": [
    {
     "data": {
      "text/plain": [
       "0.749263178626826"
      ]
     },
     "execution_count": 57,
     "metadata": {},
     "output_type": "execute_result"
    }
   ],
   "source": [
    "mean_squared_error(X_test.rating,pred)"
   ]
  },
  {
   "cell_type": "code",
   "execution_count": 58,
   "metadata": {},
   "outputs": [
    {
     "name": "stderr",
     "output_type": "stream",
     "text": [
      "C:\\Users\\Laptop House\\AppData\\Local\\Temp\\ipykernel_9520\\4135463238.py:1: FutureWarning: The behavior of `series[i:j]` with an integer-dtype index is deprecated. In a future version, this will be treated as *label-based* indexing, consistent with e.g. `series[i]` lookups. To retain the old behavior, use `series.iloc[i:j]`. To get the future behavior, use `series.loc[i:j]`.\n",
      "  X_test.rating[:10], pred[:10]\n"
     ]
    },
    {
     "data": {
      "text/plain": [
       "(26487    3.0\n",
       " 35264    4.0\n",
       " 22639    1.5\n",
       " 86800    2.5\n",
       " 42210    4.0\n",
       " 83729    2.5\n",
       " 34333    4.0\n",
       " 74144    5.0\n",
       " 5931     4.0\n",
       " 50053    5.0\n",
       " Name: rating, dtype: float64,\n",
       " array([[3.8914692],\n",
       "        [3.659824 ],\n",
       "        [3.5010915],\n",
       "        [3.4756699],\n",
       "        [3.9482074],\n",
       "        [3.2750669],\n",
       "        [3.9422674],\n",
       "        [4.079718 ],\n",
       "        [3.883641 ],\n",
       "        [3.3886452]], dtype=float32))"
      ]
     },
     "execution_count": 58,
     "metadata": {},
     "output_type": "execute_result"
    }
   ],
   "source": [
    "X_test.rating[:10], pred[:10]"
   ]
  },
  {
   "cell_type": "code",
   "execution_count": null,
   "metadata": {},
   "outputs": [],
   "source": []
  }
 ],
 "metadata": {
  "kernelspec": {
   "display_name": "Python 3",
   "language": "python",
   "name": "python3"
  },
  "language_info": {
   "codemirror_mode": {
    "name": "ipython",
    "version": 3
   },
   "file_extension": ".py",
   "mimetype": "text/x-python",
   "name": "python",
   "nbconvert_exporter": "python",
   "pygments_lexer": "ipython3",
   "version": "3.11.0"
  }
 },
 "nbformat": 4,
 "nbformat_minor": 2
}
